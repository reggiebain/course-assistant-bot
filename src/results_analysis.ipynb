{
 "cells": [
  {
   "cell_type": "markdown",
   "metadata": {},
   "source": [
    "# Analyzing RAG Results\n",
    "In this notebook we:\n",
    "1. Import Q&A results from out files\n",
    "2. Study the questions that were rejected by metrics before eval\n",
    "3. Plot scores from the judge agent."
   ]
  },
  {
   "cell_type": "code",
   "execution_count": null,
   "metadata": {},
   "outputs": [],
   "source": [
    "!pip install -q transformers langchain"
   ]
  },
  {
   "cell_type": "code",
   "execution_count": 3,
   "metadata": {},
   "outputs": [],
   "source": [
    "import pandas as pd\n",
    "import matplotlib.pyplot as plt\n",
    "import seaborn as sns\n",
    "import numpy as np"
   ]
  },
  {
   "cell_type": "code",
   "execution_count": 7,
   "metadata": {},
   "outputs": [
    {
     "data": {
      "text/html": [
       "<div>\n",
       "<style scoped>\n",
       "    .dataframe tbody tr th:only-of-type {\n",
       "        vertical-align: middle;\n",
       "    }\n",
       "\n",
       "    .dataframe tbody tr th {\n",
       "        vertical-align: top;\n",
       "    }\n",
       "\n",
       "    .dataframe thead th {\n",
       "        text-align: right;\n",
       "    }\n",
       "</style>\n",
       "<table border=\"1\" class=\"dataframe\">\n",
       "  <thead>\n",
       "    <tr style=\"text-align: right;\">\n",
       "      <th></th>\n",
       "      <th>question</th>\n",
       "      <th>true_answer</th>\n",
       "      <th>source_doc</th>\n",
       "      <th>generated_answer</th>\n",
       "      <th>retrieved_docs</th>\n",
       "      <th>test_settings</th>\n",
       "      <th>eval_score_gpt4</th>\n",
       "      <th>eval_feedback_gpt4</th>\n",
       "    </tr>\n",
       "  </thead>\n",
       "  <tbody>\n",
       "    <tr>\n",
       "      <th>0</th>\n",
       "      <td>What is the primary textbook for the course?\\n</td>\n",
       "      <td>The primary textbook for the course is Physics...</td>\n",
       "      <td>/kaggle/input/course-bot-data/documents/rbain_...</td>\n",
       "      <td>\\n&lt;|system|&gt;\\nUsing the information contained ...</td>\n",
       "      <td>[7th\\ned.,\\nDouglas\\nC.\\nGiancoli\\n—\\nPrimary\\...</td>\n",
       "      <td>chunk:200_embeddings:thenlper~gte-small_rerank...</td>\n",
       "      <td>4</td>\n",
       "      <td>The response correctly identifies the primary ...</td>\n",
       "    </tr>\n",
       "  </tbody>\n",
       "</table>\n",
       "</div>"
      ],
      "text/plain": [
       "                                         question  \\\n",
       "0  What is the primary textbook for the course?\\n   \n",
       "\n",
       "                                         true_answer  \\\n",
       "0  The primary textbook for the course is Physics...   \n",
       "\n",
       "                                          source_doc  \\\n",
       "0  /kaggle/input/course-bot-data/documents/rbain_...   \n",
       "\n",
       "                                    generated_answer  \\\n",
       "0  \\n<|system|>\\nUsing the information contained ...   \n",
       "\n",
       "                                      retrieved_docs  \\\n",
       "0  [7th\\ned.,\\nDouglas\\nC.\\nGiancoli\\n—\\nPrimary\\...   \n",
       "\n",
       "                                       test_settings  eval_score_gpt4  \\\n",
       "0  chunk:200_embeddings:thenlper~gte-small_rerank...                4   \n",
       "\n",
       "                                  eval_feedback_gpt4  \n",
       "0  The response correctly identifies the primary ...  "
      ]
     },
     "execution_count": 7,
     "metadata": {},
     "output_type": "execute_result"
    }
   ],
   "source": [
    "results_pdf = pd.read_json('/Users/reggiebain/erdos/course-assistant-bot/out/rag_eval_results_pdf/working/output/rag_chunk:200_embeddings:thenlper~gte-small_rerank:False_reader-model:zephyr-7b-beta.json')\n",
    "results_pdf.head(1)"
   ]
  },
  {
   "cell_type": "code",
   "execution_count": null,
   "metadata": {},
   "outputs": [
    {
     "name": "stdout",
     "output_type": "stream",
     "text": [
      "Number of PDF Synthetic Questions that were cut: 7\n"
     ]
    }
   ],
   "source": [
    "# Take further look at pdf q&a\n",
    "results_full_pdf = pd.read_csv('/Users/reggiebain/erdos/course-assistant-bot/out/rag_eval_results_pdf/working/generated_qa.csv')\n",
    "print(f\"Number of PDF Synthetic Questions that were cut: {len(results_full_pdf) - len(results_pdf)}\")"
   ]
  },
  {
   "cell_type": "code",
   "execution_count": 8,
   "metadata": {},
   "outputs": [
    {
     "data": {
      "text/html": [
       "<div>\n",
       "<style scoped>\n",
       "    .dataframe tbody tr th:only-of-type {\n",
       "        vertical-align: middle;\n",
       "    }\n",
       "\n",
       "    .dataframe tbody tr th {\n",
       "        vertical-align: top;\n",
       "    }\n",
       "\n",
       "    .dataframe thead th {\n",
       "        text-align: right;\n",
       "    }\n",
       "</style>\n",
       "<table border=\"1\" class=\"dataframe\">\n",
       "  <thead>\n",
       "    <tr style=\"text-align: right;\">\n",
       "      <th></th>\n",
       "      <th>question</th>\n",
       "      <th>true_answer</th>\n",
       "      <th>source_doc</th>\n",
       "      <th>generated_answer</th>\n",
       "      <th>retrieved_docs</th>\n",
       "      <th>test_settings</th>\n",
       "      <th>eval_score_gpt4</th>\n",
       "      <th>eval_feedback_gpt4</th>\n",
       "    </tr>\n",
       "  </thead>\n",
       "  <tbody>\n",
       "    <tr>\n",
       "      <th>0</th>\n",
       "      <td>What is the course code for the Introduction t...</td>\n",
       "      <td>COMP_SCI 110</td>\n",
       "      <td>/kaggle/input/course-bot-data/documents/cbain_...</td>\n",
       "      <td>\\n&lt;|system|&gt;\\nUsing the information contained ...</td>\n",
       "      <td>[The second goal of the course is to introduce...</td>\n",
       "      <td>chunk:200_embeddings:thenlper~gte-small_rerank...</td>\n",
       "      <td>5</td>\n",
       "      <td>The response provided is completely correct, a...</td>\n",
       "    </tr>\n",
       "  </tbody>\n",
       "</table>\n",
       "</div>"
      ],
      "text/plain": [
       "                                            question   true_answer  \\\n",
       "0  What is the course code for the Introduction t...  COMP_SCI 110   \n",
       "\n",
       "                                          source_doc  \\\n",
       "0  /kaggle/input/course-bot-data/documents/cbain_...   \n",
       "\n",
       "                                    generated_answer  \\\n",
       "0  \\n<|system|>\\nUsing the information contained ...   \n",
       "\n",
       "                                      retrieved_docs  \\\n",
       "0  [The second goal of the course is to introduce...   \n",
       "\n",
       "                                       test_settings  eval_score_gpt4  \\\n",
       "0  chunk:200_embeddings:thenlper~gte-small_rerank...                5   \n",
       "\n",
       "                                  eval_feedback_gpt4  \n",
       "0  The response provided is completely correct, a...  "
      ]
     },
     "execution_count": 8,
     "metadata": {},
     "output_type": "execute_result"
    }
   ],
   "source": [
    "results_md = pd.read_json('/Users/reggiebain/erdos/course-assistant-bot/out/rag_eval_results_md/working/output/rag_chunk:200_embeddings:thenlper~gte-small_rerank:False_reader-model:zephyr-7b-beta.json')\n",
    "results_md.head(1)"
   ]
  },
  {
   "cell_type": "code",
   "execution_count": 54,
   "metadata": {},
   "outputs": [
    {
     "name": "stdout",
     "output_type": "stream",
     "text": [
      "Number of MD Synthetic Questions that were cut: 8\n"
     ]
    }
   ],
   "source": [
    "# Take further look at md q&a\n",
    "results_md_full = pd.read_csv('/Users/reggiebain/erdos/course-assistant-bot/out/rag_eval_results_md/working/generated_qa.csv')\n",
    "print(f\"Number of MD Synthetic Questions that were cut: {len(results_md_full) - len(results_md)}\")"
   ]
  },
  {
   "cell_type": "code",
   "execution_count": 77,
   "metadata": {},
   "outputs": [
    {
     "data": {
      "text/html": [
       "<div>\n",
       "<style scoped>\n",
       "    .dataframe tbody tr th:only-of-type {\n",
       "        vertical-align: middle;\n",
       "    }\n",
       "\n",
       "    .dataframe tbody tr th {\n",
       "        vertical-align: top;\n",
       "    }\n",
       "\n",
       "    .dataframe thead th {\n",
       "        text-align: right;\n",
       "    }\n",
       "</style>\n",
       "<table border=\"1\" class=\"dataframe\">\n",
       "  <thead>\n",
       "    <tr style=\"text-align: right;\">\n",
       "      <th></th>\n",
       "      <th>question</th>\n",
       "      <th>true_answer</th>\n",
       "      <th>source_doc</th>\n",
       "      <th>generated_answer</th>\n",
       "      <th>retrieved_docs</th>\n",
       "      <th>test_settings</th>\n",
       "      <th>eval_score_gpt4</th>\n",
       "      <th>eval_feedback_gpt4</th>\n",
       "    </tr>\n",
       "  </thead>\n",
       "  <tbody>\n",
       "    <tr>\n",
       "      <th>0</th>\n",
       "      <td>How will the course policy be applied at the e...</td>\n",
       "      <td>The course policy will be automatically applie...</td>\n",
       "      <td>/kaggle/input/course-bot-data/cbain_syllabus_1...</td>\n",
       "      <td>\\n&lt;|system|&gt;\\nUsing the information contained ...</td>\n",
       "      <td>[Students may request extensions on 2 assignme...</td>\n",
       "      <td>chunk:200_embeddings:thenlper~gte-small_rerank...</td>\n",
       "      <td>5</td>\n",
       "      <td>Feedback: The response correctly identifies th...</td>\n",
       "    </tr>\n",
       "  </tbody>\n",
       "</table>\n",
       "</div>"
      ],
      "text/plain": [
       "                                            question  \\\n",
       "0  How will the course policy be applied at the e...   \n",
       "\n",
       "                                         true_answer  \\\n",
       "0  The course policy will be automatically applie...   \n",
       "\n",
       "                                          source_doc  \\\n",
       "0  /kaggle/input/course-bot-data/cbain_syllabus_1...   \n",
       "\n",
       "                                    generated_answer  \\\n",
       "0  \\n<|system|>\\nUsing the information contained ...   \n",
       "\n",
       "                                      retrieved_docs  \\\n",
       "0  [Students may request extensions on 2 assignme...   \n",
       "\n",
       "                                       test_settings  eval_score_gpt4  \\\n",
       "0  chunk:200_embeddings:thenlper~gte-small_rerank...                5   \n",
       "\n",
       "                                  eval_feedback_gpt4  \n",
       "0  Feedback: The response correctly identifies th...  "
      ]
     },
     "execution_count": 77,
     "metadata": {},
     "output_type": "execute_result"
    }
   ],
   "source": [
    "results_html = pd.read_json('/Users/reggiebain/erdos/course-assistant-bot/out/rag_eval_results_html/working/output/rag_chunk:200_embeddings:thenlper~gte-small_rerank:False_reader-model:zephyr-7b-beta.json')\n",
    "results_html.head(1)"
   ]
  },
  {
   "cell_type": "code",
   "execution_count": 78,
   "metadata": {},
   "outputs": [
    {
     "name": "stdout",
     "output_type": "stream",
     "text": [
      "Number of HTML Synthetic Questions that were cut: 5\n"
     ]
    }
   ],
   "source": [
    "# Take further look at html q&a\n",
    "results_full_html = pd.read_csv('/Users/reggiebain/erdos/course-assistant-bot/out/rag_eval_results_html/working/generated_qa.csv')\n",
    "print(f\"Number of HTML Synthetic Questions that were cut: {len(results_full_html) - len(results_html)}\")"
   ]
  },
  {
   "cell_type": "markdown",
   "metadata": {},
   "source": [
    "Next we'll take a look at some questions that were cut"
   ]
  },
  {
   "cell_type": "code",
   "execution_count": 81,
   "metadata": {},
   "outputs": [
    {
     "data": {
      "text/plain": [
       "['What happens if students wear headphones during class instead of actively participating?\\n',\n",
       " 'What is one way students can ask questions to the instructor outside of office hours?\\n',\n",
       " 'What platform do students use to submit homework assignments and complete in-class tests?\\n',\n",
       " 'How can students get one-on-one help for tasks like learning how to study more effectively, creating a study schedule, organizing materials, or setting priorities at the Center for Academic Success?\\n',\n",
       " 'When is the third exam scheduled in the course?\\n',\n",
       " 'What is the commitment that academic integrity represents according to the International Center for Academic Integrity website?\\n']"
      ]
     },
     "execution_count": 81,
     "metadata": {},
     "output_type": "execute_result"
    }
   ],
   "source": [
    "results_all_pdf = pd.read_csv('../out/rag_eval_results_pdf/working/generated_qa.csv')\n",
    "all, kept = list(results_all_pdf.question), list(results_pdf.question)\n",
    "rejected = [q for q in all if q not in kept]\n",
    "rejected"
   ]
  },
  {
   "cell_type": "code",
   "execution_count": 80,
   "metadata": {},
   "outputs": [
    {
     "data": {
      "image/png": "[encoded data removed]",
      "text/plain": [
       "<Figure size 1200x400 with 3 Axes>"
      ]
     },
     "metadata": {},
     "output_type": "display_data"
    }
   ],
   "source": [
    "# Plot histograms\n",
    "#plt.hist(results, bins=30, alpha=0.7, color='blue', label='Dataset 1')  # Histogram 1\n",
    "#plt.hist(data2, bins=30, alpha=0.7, color='orange', label='Dataset 2')  # Histogram 2\n",
    "bins = [1,2,3,4,5,6]\n",
    "fig, axes = plt.subplots(1,3, figsize=(12,4))\n",
    "sns.histplot(data=results_pdf.eval_score_gpt4, bins = bins, alpha = 0.7, color='blue', label='PDF', ax=axes[0])\n",
    "sns.histplot(data= results_md.eval_score_gpt4, bins=bins, alpha=0.7, color='magenta', label='MD', ax=axes[1])\n",
    "sns.histplot(results_html.eval_score_gpt4, bins=bins, alpha=0.7, color = 'orange', label='HTML', ax=axes[2])\n",
    "# Add labels and title\n",
    "for i in range(3):\n",
    "    axes[i].set_xlabel('Score of Answers')\n",
    "    axes[i].legend()\n",
    "plt.suptitle('GPT4 Evaluation of Q&A Pairs using RAG', fontweight='bold', fontsize=16)\n",
    "plt.savefig('/Users/reggiebain/erdos/course-assistant-bot/images/gpt4_rag_eval.png')\n",
    "plt.show()"
   ]
  },
  {
   "cell_type": "code",
   "execution_count": 83,
   "metadata": {},
   "outputs": [
    {
     "data": {
      "text/plain": [
       "Index(['question', 'true_answer', 'source_doc', 'generated_answer',\n",
       "       'retrieved_docs', 'test_settings', 'eval_score_gpt4',\n",
       "       'eval_feedback_gpt4'],\n",
       "      dtype='object')"
      ]
     },
     "execution_count": 83,
     "metadata": {},
     "output_type": "execute_result"
    }
   ],
   "source": [
    "results_html.columns"
   ]
  },
  {
   "cell_type": "code",
   "execution_count": 89,
   "metadata": {},
   "outputs": [
    {
     "data": {
      "text/html": [
       "<div>\n",
       "<style scoped>\n",
       "    .dataframe tbody tr th:only-of-type {\n",
       "        vertical-align: middle;\n",
       "    }\n",
       "\n",
       "    .dataframe tbody tr th {\n",
       "        vertical-align: top;\n",
       "    }\n",
       "\n",
       "    .dataframe thead th {\n",
       "        text-align: right;\n",
       "    }\n",
       "</style>\n",
       "<table border=\"1\" class=\"dataframe\">\n",
       "  <thead>\n",
       "    <tr style=\"text-align: right;\">\n",
       "      <th></th>\n",
       "      <th>question</th>\n",
       "      <th>generated_answer</th>\n",
       "      <th>true_answer</th>\n",
       "    </tr>\n",
       "  </thead>\n",
       "  <tbody>\n",
       "    <tr>\n",
       "      <th>0</th>\n",
       "      <td>How will the course policy be applied at the e...</td>\n",
       "      <td>\\nAccording to Document 1, the policy for drop...</td>\n",
       "      <td>The course policy will be automatically applie...</td>\n",
       "    </tr>\n",
       "    <tr>\n",
       "      <th>1</th>\n",
       "      <td>What is the grading range for an F grade in th...</td>\n",
       "      <td>\\nIn the Graduate course, the range for an F g...</td>\n",
       "      <td>The grading range for an F grade in the Gradua...</td>\n",
       "    </tr>\n",
       "    <tr>\n",
       "      <th>2</th>\n",
       "      <td>What is considered a violation of Northwestern...</td>\n",
       "      <td>\\nAnswer: According to the provided context, e...</td>\n",
       "      <td>Turning in code that you yourself did not both...</td>\n",
       "    </tr>\n",
       "    <tr>\n",
       "      <th>3</th>\n",
       "      <td>How many extensions can a student request for ...</td>\n",
       "      <td>\\nAccording to Document 0, a student may reque...</td>\n",
       "      <td>A student can request extensions on 2 assignme...</td>\n",
       "    </tr>\n",
       "    <tr>\n",
       "      <th>4</th>\n",
       "      <td>What is programming used for?\\n</td>\n",
       "      <td>s and peer mentors. Overall, programming is a ...</td>\n",
       "      <td>Programming is used as a powerful medium for c...</td>\n",
       "    </tr>\n",
       "  </tbody>\n",
       "</table>\n",
       "</div>"
      ],
      "text/plain": [
       "                                            question  \\\n",
       "0  How will the course policy be applied at the e...   \n",
       "1  What is the grading range for an F grade in th...   \n",
       "2  What is considered a violation of Northwestern...   \n",
       "3  How many extensions can a student request for ...   \n",
       "4                    What is programming used for?\\n   \n",
       "\n",
       "                                    generated_answer  \\\n",
       "0  \\nAccording to Document 1, the policy for drop...   \n",
       "1  \\nIn the Graduate course, the range for an F g...   \n",
       "2  \\nAnswer: According to the provided context, e...   \n",
       "3  \\nAccording to Document 0, a student may reque...   \n",
       "4  s and peer mentors. Overall, programming is a ...   \n",
       "\n",
       "                                         true_answer  \n",
       "0  The course policy will be automatically applie...  \n",
       "1  The grading range for an F grade in the Gradua...  \n",
       "2  Turning in code that you yourself did not both...  \n",
       "3  A student can request extensions on 2 assignme...  \n",
       "4  Programming is used as a powerful medium for c...  "
      ]
     },
     "execution_count": 89,
     "metadata": {},
     "output_type": "execute_result"
    }
   ],
   "source": [
    "# Create dataframe of q&a for all analyzed syllabi\n",
    "questions_df = pd.DataFrame()\n",
    "questions_df['question'] = list(results_html.question) + list(results_pdf.question) + list(results_md.question)\n",
    "questions_df['generated_answer'] = list(results_html.generated_answer) + list(results_pdf.generated_answer) + list(results_md.generated_answer)\n",
    "questions_df['true_answer'] = list(results_html.true_answer) + list(results_pdf.true_answer) + list(results_md.true_answer)\n",
    "\n",
    "# Grab the relevant portion of the generated answers\n",
    "questions_df['generated_answer'] = questions_df['generated_answer'].str.split('<|assistant|>').str[-1]\n",
    "\n",
    "questions_df.to_csv('/Users/reggiebain/erdos/course-assistant-bot/out/qa_baseline.csv')\n",
    "questions_df.head()"
   ]
  },
  {
   "cell_type": "code",
   "execution_count": 87,
   "metadata": {},
   "outputs": [
    {
     "name": "stdout",
     "output_type": "stream",
     "text": [
      "\n",
      "<|system|>\n",
      "Using the information contained in the context,\n",
      "give a comprehensive answer to the question.\n",
      "Respond only to the question asked, response should be concise and relevant to the question.\n",
      "Provide the number of the source document when relevant.\n",
      "If the answer cannot be deduced from the context, do not give an answer.</s>\n",
      "<|user|>\n",
      "Context:\n",
      "\n",
      "Extracted documents:\n",
      "Document 0:::\n",
      "Students may request extensions on 2 assignments throughout the quarter.\n",
      "\n",
      "The policy is deliberate in that you, as a student, must actively consider at least 24 hours in advance of the deadline that you will need extra time to complete this assignment. If you find yourself needing extra time on consecutive assignments, this is a good sign that you need to reach out to someone on the Course Staff for help.\n",
      "\n",
      "There will be no exceptions to this policy. Once you are granted a waiver, it cannot be voided.\n",
      "\n",
      "Emergency Grade Erasure\n",
      "\n",
      "The emergency grade erasure policy acknowledges that often times life situations occur that make it impossible to keep up in a course. Do not use this a planning or scheduling device. This is specifically meant to take care of emergencies that happen in your life during the quarter.\n",
      "\n",
      "Your lowest quiz score (including 0s) is droppedDocument 1:::\n",
      "Your lowest quiz score (including 0s) is dropped\n",
      "\n",
      "Your lowest tutorial score (including 0s) is dropped (excluding the final tutorial assignment in Week 11)\n",
      "\n",
      "Your lowest exercise score (including 0s) is dropped (excluding the final exercise in Week 11)\n",
      "\n",
      "Your two lowest Mini-Quiz scores (including 0s) are dropped\n",
      "\n",
      "If you choose to drop an assignment early in the quarter only to find yourself in an emergency situation later in the quarter, you will need to reach out to your Dean of Students in order to arrange for flexibility across all of your coursework.\n",
      "\n",
      "This policy will be automatically applied at the end of the quarter for all students. No action is required on your part.\n",
      "\n",
      "Course Materials and ResourcesDocument 2:::\n",
      "These two policies are provided to accommodate the myriad situations that students encounter over the life cycle of the class (e.g. student org travel, sickness, etc.). This built-in leniency means that there will be no other exceptions to the course syllabus without prior authorization from the Dean of Students at Northwestern. I cannot offer any other leniency, make-up assignments, extensions, etc., outside these policies.\n",
      "\n",
      "Late Penalty Waiver\n",
      "\n",
      "The late penalty waiver applies ONLY to Exercises and is meant to accommodate students who may have a particular week during the quarter where they are unable to complete the assigned Exercise on-time. Students may apply (using a Google Form included at the bottom of each assignment) to have the late penalty waived for a particular assignment with two restrictions:\n",
      "\n",
      "Students must request the late penalty waiver via the form at least 24 hours in advance of the Exercise deadline.Document 3:::\n",
      "Quizzes\n",
      "\n",
      "There will be four cumulative assessments of your knowledge and practice of the course material administered in-person during our assigned class time (50 minutes). Please see the Class Schedule for the tentative dates of those quizzes. They will each have a different focus topic: Q1 (Fundamentals), Q2 (Recursion), Q3 (Imperative Programming), and Q4 (Summative).\n",
      "\n",
      "Grading Equity\n",
      "\n",
      "The course is specifically designed to be academically equitable to all students when it comes to assessment and has two special policies related to grading: 1. An emergency erasure policy; 2. A late penalty waiver.Document 4:::\n",
      "That your program is NOT dependent on running on your specific computer.\n",
      "\n",
      "These exercises will be graded via an autograder (computerized grading machine) as well as checked for plagiarism against other students’ (including from past quarters) solutions, online solutions, and a large database of course content.\n",
      "\n",
      "You may submit these assignments up to 48 hours late with a 10% (edit: changed from 12.5% to 10%) penalty per 24-hours.\n",
      "\n",
      "Ethics Modules\n",
      "\n",
      "Given the role of CS111 as the first course for all CS majors and many others with an interest in CS, the course also aims to develop core skills in critical analysis of ethical issues with an emphasis on self-reflection, finding purpose, and intersectionality. Students are asked explore different “topic modules” that introduce broad topics in ethics.\n",
      "\n",
      "Students must engage in 3 ethics related activities during the quarter:Document 5:::\n",
      "Students must engage in 3 ethics related activities during the quarter:\n",
      "\n",
      "One introductory module which covers the ethics of social media and introduces a framework for thinking about the impact of certain technologies.\n",
      "\n",
      "Attendance at one topic module that students will select based on topic interest and availability. They will complete a short reading beforehand in order to be ready to discuss the topic and complete a short reflection after attending.\n",
      "\n",
      "One final reflection module which asks students to reflect on their engagement with ethical issues and their relationship to technology by producing a short write-up comparing and contrasting the topics that students learned in topic modules.\n",
      "\n",
      "QuizzesDocument 6:::\n",
      "Taking this course means committing—for 11 weeks—to attending lectures, tutorials, and office hours, turning in assignments, practicing your programming skills, and most importantly, persevering when things get difficult. Asking questions throughout the class is not a sign of weakness. It shows that you are actively trying to understand what you know and what you do not know. We have an excellent staff of teaching assistants and peer mentors who are here to answer your questions, help you understand course material in different ways, and push you to your fullest learning potential. With your consistent and active participation in learning, you can navigate the material in the course and become a proficient programmer by the end of the quarter.\n",
      "\n",
      "Course Format\n",
      "---\n",
      "Now here is the question you need to answer.\n",
      "\n",
      "Question: How will the course policy be applied at the end of the quarter?\n",
      "\n",
      "</s>\n",
      "<|assistant|>\n",
      "According to Document 1, the policy for dropping the lowest quiz, tutorial, exercise, and Mini-Quiz scores will be automatically applied at the end of the quarter for all students. No action is required on their part. This means that the grades for each student's lowest quiz, tutorial, exercise, and Mini-Quiz scores (including 0s) will be dropped, and their final grades will be calculated based on their remaining scores.\n"
     ]
    }
   ],
   "source": [
    "print(questions_df['generated_answer'][0])"
   ]
  },
  {
   "cell_type": "markdown",
   "metadata": {},
   "source": [
    "## Comparison with Baseline\n",
    "- Take set of questions any syllabus should be able to answer\n",
    "- Feed into LLM without RAG\n",
    "- Evaluate\n",
    "- Compare"
   ]
  },
  {
   "cell_type": "code",
   "execution_count": null,
   "metadata": {},
   "outputs": [],
   "source": [
    "EVALUATION_PROMPT = \"\"\"###Task Description:\n",
    "An instruction (might include an Input inside it), a response to evaluate, a reference answer that gets a score of 5, and a score rubric representing a evaluation criteria are given.\n",
    "1. Write a detailed feedback that assess the quality of the response strictly based on the given score rubric, not evaluating in general.\n",
    "2. After writing a feedback, write a score that is an integer between 1 and 5. You should refer to the score rubric.\n",
    "3. The output format should look as follows: \\\"Feedback: {{write a feedback for criteria}} [RESULT] {{an integer number between 1 and 5}}\\\"\n",
    "4. Please do not generate any other opening, closing, and explanations. Be sure to include [RESULT] in your output.\n",
    "\n",
    "###The instruction to evaluate:\n",
    "{instruction}\n",
    "\n",
    "###Response to evaluate:\n",
    "{response}\n",
    "\n",
    "###Reference Answer (Score 5):\n",
    "{reference_answer}\n",
    "\n",
    "###Score Rubrics:\n",
    "[Is the response correct, accurate, and factual based on the reference answer?]\n",
    "Score 1: The response is completely incorrect, inaccurate, and/or not factual.\n",
    "Score 2: The response is mostly incorrect, inaccurate, and/or not factual.\n",
    "Score 3: The response is somewhat correct, accurate, and/or factual.\n",
    "Score 4: The response is mostly correct, accurate, and factual.\n",
    "Score 5: The response is completely correct, accurate, and factual.\n",
    "\n",
    "###Feedback:\"\"\""
   ]
  },
  {
   "cell_type": "code",
   "execution_count": 91,
   "metadata": {},
   "outputs": [],
   "source": [
    "# Copy/pasted from GPT4's output\n",
    "data = {\n",
    "    \"Question\": [\n",
    "        \"How will the course policy be applied at the end of the quarter?\",\n",
    "        \"What is the grading range for an F grade in the Graduate course?\",\n",
    "        \"How many extensions can a student request for assignments during the quarter?\",\n",
    "        \"What is programming used for?\",\n",
    "        \"Who are the people that can be found in the course staff?\",\n",
    "        \"What is the primary textbook for the course?\",\n",
    "        \"What is the recommended way to study physics to avoid poor test scores?\",\n",
    "        \"What should students bring to the exam according to the instructor?\",\n",
    "        \"How many college credit hours can students earn in the General Physics I course?\",\n",
    "        \"What is the course code for the Introduction to Computer Programming course?\",\n",
    "        \"What is the purpose of edSTEM?\",\n",
    "        \"What days are tutorials held in the programming course?\",\n",
    "        \"What is the main goal of the course?\",\n",
    "        \"What is the latest time accepted for late homework submissions?\"\n",
    "    ],\n",
    "    \"Generated Answer\": [\n",
    "        \"Cannot answer.\",\n",
    "        \"Cannot answer.\",\n",
    "        \"Cannot answer.\",\n",
    "        \"Programming is used to instruct computers to perform specific tasks, solve problems, and automate processes.\",\n",
    "        \"Cannot answer.\",\n",
    "        \"Cannot answer.\",\n",
    "        \"Cannot answer.\",\n",
    "        \"Cannot answer.\",\n",
    "        \"Cannot answer.\",\n",
    "        \"Cannot answer.\",\n",
    "        \"Cannot answer.\",\n",
    "        \"Cannot answer.\",\n",
    "        \"Cannot answer.\",\n",
    "        \"Cannot answer.\"\n",
    "    ]\n",
    "}\n",
    "gpt4_output = pd.DataFrame(data)\n",
    "gpt4_output.to_csv(\"../out/qa_baseline_with_answers.csv\", index=False)\n"
   ]
  },
  {
   "cell_type": "code",
   "execution_count": null,
   "metadata": {},
   "outputs": [],
   "source": []
  },
  {
   "cell_type": "code",
   "execution_count": 94,
   "metadata": {},
   "outputs": [],
   "source": [
    "!pip install -q tabulate"
   ]
  },
  {
   "cell_type": "code",
   "execution_count": 95,
   "metadata": {},
   "outputs": [
    {
     "name": "stdout",
     "output_type": "stream",
     "text": [
      "|    | Question                                                                         | Generated Answer                                                                                             |\n",
      "|---:|:---------------------------------------------------------------------------------|:-------------------------------------------------------------------------------------------------------------|\n",
      "|  0 | How will the course policy be applied at the end of the quarter?                 | Cannot answer.                                                                                               |\n",
      "|  1 | What is the grading range for an F grade in the Graduate course?                 | Cannot answer.                                                                                               |\n",
      "|  2 | How many extensions can a student request for assignments during the quarter?    | Cannot answer.                                                                                               |\n",
      "|  3 | What is programming used for?                                                    | Programming is used to instruct computers to perform specific tasks, solve problems, and automate processes. |\n",
      "|  4 | Who are the people that can be found in the course staff?                        | Cannot answer.                                                                                               |\n",
      "|  5 | What is the primary textbook for the course?                                     | Cannot answer.                                                                                               |\n",
      "|  6 | What is the recommended way to study physics to avoid poor test scores?          | Cannot answer.                                                                                               |\n",
      "|  7 | What should students bring to the exam according to the instructor?              | Cannot answer.                                                                                               |\n",
      "|  8 | How many college credit hours can students earn in the General Physics I course? | Cannot answer.                                                                                               |\n",
      "|  9 | What is the course code for the Introduction to Computer Programming course?     | Cannot answer.                                                                                               |\n",
      "| 10 | What is the purpose of edSTEM?                                                   | Cannot answer.                                                                                               |\n",
      "| 11 | What days are tutorials held in the programming course?                          | Cannot answer.                                                                                               |\n",
      "| 12 | What is the main goal of the course?                                             | Cannot answer.                                                                                               |\n",
      "| 13 | What is the latest time accepted for late homework submissions?                  | Cannot answer.                                                                                               |\n"
     ]
    }
   ],
   "source": [
    "print(gpt4_output.to_markdown())"
   ]
  },
  {
   "cell_type": "markdown",
   "metadata": {},
   "source": [
    "Using GPT4, you can notice that generic questions such as \"What is programming used for?\" can certainly be answered by an LLM without RAG for retrieving context. However, any question that requires any specificity whatsoever can't be answered."
   ]
  },
  {
   "cell_type": "code",
   "execution_count": null,
   "metadata": {},
   "outputs": [],
   "source": []
  }
 ],
 "metadata": {
  "kernelspec": {
   "display_name": "erdos_fall_2024",
   "language": "python",
   "name": "python3"
  },
  "language_info": {
   "codemirror_mode": {
    "name": "ipython",
    "version": 3
   },
   "file_extension": ".py",
   "mimetype": "text/x-python",
   "name": "python",
   "nbconvert_exporter": "python",
   "pygments_lexer": "ipython3",
   "version": "3.12.5"
  }
 },
 "nbformat": 4,
 "nbformat_minor": 2
}
